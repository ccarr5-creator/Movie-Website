{
 "cells": [
  {
   "cell_type": "code",
   "execution_count": 21,
   "id": "815a38f5-d4ba-4708-ac7b-e4c96ee32e96",
   "metadata": {},
   "outputs": [
    {
     "name": "stdout",
     "output_type": "stream",
     "text": [
      "First 20 rows of ratings.csv:\n",
      "    userId  movieId  rating  timestamp\n",
      "0        1       17     4.0  944249077\n",
      "1        1       25     1.0  944250228\n",
      "2        1       29     2.0  943230976\n",
      "3        1       30     5.0  944249077\n",
      "4        1       32     5.0  943228858\n",
      "5        1       34     2.0  943228491\n",
      "6        1       36     1.0  944249008\n",
      "7        1       80     5.0  944248943\n",
      "8        1      110     3.0  943231119\n",
      "9        1      111     5.0  944249008\n",
      "10       1      161     1.0  943231162\n",
      "11       1      166     5.0  943228442\n",
      "12       1      176     4.0  944079496\n",
      "13       1      223     3.0  944082810\n",
      "14       1      232     5.0  943228442\n",
      "15       1      260     5.0  943228696\n",
      "16       1      302     4.0  944253272\n",
      "17       1      306     5.0  944248888\n",
      "18       1      307     5.0  944253207\n",
      "19       1      322     4.0  944053801\n",
      "\n",
      "First 20 rows of movies.csv:\n",
      "    movieId                                  title  \\\n",
      "0         1                       Toy Story (1995)   \n",
      "1         2                         Jumanji (1995)   \n",
      "2         3                Grumpier Old Men (1995)   \n",
      "3         4               Waiting to Exhale (1995)   \n",
      "4         5     Father of the Bride Part II (1995)   \n",
      "5         6                            Heat (1995)   \n",
      "6         7                         Sabrina (1995)   \n",
      "7         8                    Tom and Huck (1995)   \n",
      "8         9                    Sudden Death (1995)   \n",
      "9        10                       GoldenEye (1995)   \n",
      "10       11         American President, The (1995)   \n",
      "11       12     Dracula: Dead and Loving It (1995)   \n",
      "12       13                           Balto (1995)   \n",
      "13       14                           Nixon (1995)   \n",
      "14       15                Cutthroat Island (1995)   \n",
      "15       16                          Casino (1995)   \n",
      "16       17           Sense and Sensibility (1995)   \n",
      "17       18                      Four Rooms (1995)   \n",
      "18       19  Ace Ventura: When Nature Calls (1995)   \n",
      "19       20                     Money Train (1995)   \n",
      "\n",
      "                                         genres  \n",
      "0   Adventure|Animation|Children|Comedy|Fantasy  \n",
      "1                    Adventure|Children|Fantasy  \n",
      "2                                Comedy|Romance  \n",
      "3                          Comedy|Drama|Romance  \n",
      "4                                        Comedy  \n",
      "5                         Action|Crime|Thriller  \n",
      "6                                Comedy|Romance  \n",
      "7                            Adventure|Children  \n",
      "8                                        Action  \n",
      "9                     Action|Adventure|Thriller  \n",
      "10                         Comedy|Drama|Romance  \n",
      "11                                Comedy|Horror  \n",
      "12                 Adventure|Animation|Children  \n",
      "13                                        Drama  \n",
      "14                     Action|Adventure|Romance  \n",
      "15                                  Crime|Drama  \n",
      "16                                Drama|Romance  \n",
      "17                                       Comedy  \n",
      "18                                       Comedy  \n",
      "19           Action|Comedy|Crime|Drama|Thriller  \n"
     ]
    }
   ],
   "source": [
    "import pandas as pd\n",
    "\n",
    "\n",
    "ratings = pd.read_csv(r'C:\\Users\\mystm\\Downloads\\ml-32m1\\ml-32m\\ratings.csv')\n",
    "print(\"First 20 rows of ratings.csv:\")\n",
    "print(ratings.head(20))\n",
    "\n",
    "movies = pd.read_csv(r'C:\\Users\\mystm\\Downloads\\ml-32m1\\ml-32m\\movies.csv')\n",
    "print(\"\\nFirst 20 rows of movies.csv:\")\n",
    "print(movies.head(20))\n"
   ]
  },
  {
   "cell_type": "code",
   "execution_count": 4,
   "id": "49a55d9a-39e7-4425-a319-6f5bd1a7bbf0",
   "metadata": {},
   "outputs": [
    {
     "name": "stdout",
     "output_type": "stream",
     "text": [
      "   userId  movieId  rating  timestamp  \\\n",
      "0       1       17     4.0  944249077   \n",
      "1       1       25     1.0  944250228   \n",
      "2       1       29     2.0  943230976   \n",
      "3       1       30     5.0  944249077   \n",
      "4       1       32     5.0  943228858   \n",
      "5       1       34     2.0  943228491   \n",
      "6       1       36     1.0  944249008   \n",
      "7       1       80     5.0  944248943   \n",
      "8       1      110     3.0  943231119   \n",
      "9       1      111     5.0  944249008   \n",
      "\n",
      "                                               title  \\\n",
      "0                       Sense and Sensibility (1995)   \n",
      "1                           Leaving Las Vegas (1995)   \n",
      "2  City of Lost Children, The (Cité des enfants p...   \n",
      "3  Shanghai Triad (Yao a yao yao dao waipo qiao) ...   \n",
      "4          Twelve Monkeys (a.k.a. 12 Monkeys) (1995)   \n",
      "5                                        Babe (1995)   \n",
      "6                            Dead Man Walking (1995)   \n",
      "7        White Balloon, The (Badkonake sefid) (1995)   \n",
      "8                                  Braveheart (1995)   \n",
      "9                                 Taxi Driver (1976)   \n",
      "\n",
      "                                   genres  \n",
      "0                           Drama|Romance  \n",
      "1                           Drama|Romance  \n",
      "2  Adventure|Drama|Fantasy|Mystery|Sci-Fi  \n",
      "3                             Crime|Drama  \n",
      "4                 Mystery|Sci-Fi|Thriller  \n",
      "5                          Children|Drama  \n",
      "6                             Crime|Drama  \n",
      "7                          Children|Drama  \n",
      "8                        Action|Drama|War  \n",
      "9                    Crime|Drama|Thriller  \n"
     ]
    }
   ],
   "source": [
    "#merge the data\n",
    "\n",
    "# Merge the datasets on movieId\n",
    "merged_df = pd.merge(ratings, movies, on='movieId')\n",
    "\n",
    "# Display first 10 rows\n",
    "print(merged_df.head(10))"
   ]
  },
  {
   "cell_type": "code",
   "execution_count": 7,
   "id": "af8cce93-bc7a-4dce-9003-8e309e61dfb9",
   "metadata": {},
   "outputs": [
    {
     "name": "stdout",
     "output_type": "stream",
     "text": [
      "Number of unique users: 200948\n",
      "Number of unique movies: 84432\n"
     ]
    }
   ],
   "source": [
    "#Check for unique numbers\n",
    "print(f\"Number of unique users: {merged_df['userId'].nunique()}\")\n",
    "print(f\"Number of unique movies: {merged_df['movieId'].nunique()}\")"
   ]
  },
  {
   "cell_type": "code",
   "execution_count": 9,
   "id": "6bc79135-4b85-48f1-b4dc-b2f57ce37f3e",
   "metadata": {},
   "outputs": [
    {
     "name": "stdout",
     "output_type": "stream",
     "text": [
      "Missing values in dataset:\n",
      "userId       0\n",
      "movieId      0\n",
      "rating       0\n",
      "timestamp    0\n",
      "title        0\n",
      "genres       0\n",
      "dtype: int64\n"
     ]
    }
   ],
   "source": [
    "#Missing values\n",
    "\n",
    "print(\"Missing values in dataset:\")\n",
    "print(merged_df.isnull().sum())"
   ]
  },
  {
   "cell_type": "code",
   "execution_count": 11,
   "id": "2eb6eee1-2802-4fc6-b2b7-d9e1b2d3f83d",
   "metadata": {},
   "outputs": [
    {
     "name": "stdout",
     "output_type": "stream",
     "text": [
      "Top 10 most rated movies:\n",
      "title\n",
      "Shawshank Redemption, The (1994)                             102929\n",
      "Forrest Gump (1994)                                          100296\n",
      "Pulp Fiction (1994)                                           98409\n",
      "Matrix, The (1999)                                            93808\n",
      "Silence of the Lambs, The (1991)                              90330\n",
      "Star Wars: Episode IV - A New Hope (1977)                     85010\n",
      "Fight Club (1999)                                             77332\n",
      "Jurassic Park (1993)                                          75233\n",
      "Schindler's List (1993)                                       73849\n",
      "Lord of the Rings: The Fellowship of the Ring, The (2001)     73122\n",
      "Name: rating, dtype: int64\n"
     ]
    }
   ],
   "source": [
    "#Most rated movie\n",
    "most_rated = merged_df.groupby('title')['rating'].count().sort_values(ascending=False)\n",
    "print(\"Top 10 most rated movies:\")\n",
    "print(most_rated.head(10))"
   ]
  },
  {
   "cell_type": "code",
   "execution_count": 13,
   "id": "92c60073-a696-4ee9-99d0-8b9bbb7eb70f",
   "metadata": {},
   "outputs": [
    {
     "name": "stdout",
     "output_type": "stream",
     "text": [
      "Top 10 highest-rated movies (min 50 ratings):\n",
      "title\n",
      "Planet Earth II (2016)              4.446830\n",
      "Planet Earth (2006)                 4.444369\n",
      "Band of Brothers (2001)             4.426539\n",
      "Shawshank Redemption, The (1994)    4.404614\n",
      "Cosmos                              4.330081\n",
      "Godfather, The (1972)               4.317030\n",
      "Parasite (2019)                     4.312254\n",
      "Blue Planet II (2017)               4.300086\n",
      "Twin Peaks (1989)                   4.298684\n",
      "Twelve Angry Men (1954)             4.286192\n",
      "Name: rating, dtype: float64\n"
     ]
    }
   ],
   "source": [
    "#Highest rated movie\n",
    "average_ratings = merged_df.groupby('title')['rating'].mean()\n",
    "rating_counts = merged_df.groupby('title')['rating'].count()\n",
    "\n",
    "# Filter for movies with at least 50 ratings\n",
    "popular_movies = average_ratings[rating_counts >= 50].sort_values(ascending=False)\n",
    "\n",
    "print(\"Top 10 highest-rated movies (min 50 ratings):\")\n",
    "print(popular_movies.head(10))"
   ]
  },
  {
   "cell_type": "code",
   "execution_count": 22,
   "id": "ed0813a7-512a-41a0-a441-3813a1469aeb",
   "metadata": {},
   "outputs": [
    {
     "ename": "KeyError",
     "evalue": "'timestamp'",
     "output_type": "error",
     "traceback": [
      "\u001b[1;31m---------------------------------------------------------------------------\u001b[0m",
      "\u001b[1;31mKeyError\u001b[0m                                  Traceback (most recent call last)",
      "File \u001b[1;32m~\\anaconda3\\Lib\\site-packages\\pandas\\core\\indexes\\base.py:3805\u001b[0m, in \u001b[0;36mIndex.get_loc\u001b[1;34m(self, key)\u001b[0m\n\u001b[0;32m   3804\u001b[0m \u001b[38;5;28;01mtry\u001b[39;00m:\n\u001b[1;32m-> 3805\u001b[0m     \u001b[38;5;28;01mreturn\u001b[39;00m \u001b[38;5;28mself\u001b[39m\u001b[38;5;241m.\u001b[39m_engine\u001b[38;5;241m.\u001b[39mget_loc(casted_key)\n\u001b[0;32m   3806\u001b[0m \u001b[38;5;28;01mexcept\u001b[39;00m \u001b[38;5;167;01mKeyError\u001b[39;00m \u001b[38;5;28;01mas\u001b[39;00m err:\n",
      "File \u001b[1;32mindex.pyx:167\u001b[0m, in \u001b[0;36mpandas._libs.index.IndexEngine.get_loc\u001b[1;34m()\u001b[0m\n",
      "File \u001b[1;32mindex.pyx:196\u001b[0m, in \u001b[0;36mpandas._libs.index.IndexEngine.get_loc\u001b[1;34m()\u001b[0m\n",
      "File \u001b[1;32mpandas\\\\_libs\\\\hashtable_class_helper.pxi:7081\u001b[0m, in \u001b[0;36mpandas._libs.hashtable.PyObjectHashTable.get_item\u001b[1;34m()\u001b[0m\n",
      "File \u001b[1;32mpandas\\\\_libs\\\\hashtable_class_helper.pxi:7089\u001b[0m, in \u001b[0;36mpandas._libs.hashtable.PyObjectHashTable.get_item\u001b[1;34m()\u001b[0m\n",
      "\u001b[1;31mKeyError\u001b[0m: 'timestamp'",
      "\nThe above exception was the direct cause of the following exception:\n",
      "\u001b[1;31mKeyError\u001b[0m                                  Traceback (most recent call last)",
      "Cell \u001b[1;32mIn[22], line 6\u001b[0m\n\u001b[0;32m      3\u001b[0m merged_df \u001b[38;5;241m=\u001b[39m merged_df\u001b[38;5;241m.\u001b[39mdrop_duplicates()\n\u001b[0;32m      5\u001b[0m \u001b[38;5;66;03m#Convert timestamp to datetime format (Optional, useful for time-based analysis)\u001b[39;00m\n\u001b[1;32m----> 6\u001b[0m merged_df[\u001b[38;5;124m'\u001b[39m\u001b[38;5;124mtimestamp\u001b[39m\u001b[38;5;124m'\u001b[39m] \u001b[38;5;241m=\u001b[39m pd\u001b[38;5;241m.\u001b[39mto_datetime(merged_df[\u001b[38;5;124m'\u001b[39m\u001b[38;5;124mtimestamp\u001b[39m\u001b[38;5;124m'\u001b[39m], unit\u001b[38;5;241m=\u001b[39m\u001b[38;5;124m'\u001b[39m\u001b[38;5;124ms\u001b[39m\u001b[38;5;124m'\u001b[39m)\n\u001b[0;32m      8\u001b[0m \u001b[38;5;66;03m#Drop timestamp column if not needed\u001b[39;00m\n\u001b[0;32m      9\u001b[0m merged_df \u001b[38;5;241m=\u001b[39m merged_df\u001b[38;5;241m.\u001b[39mdrop(columns\u001b[38;5;241m=\u001b[39m[\u001b[38;5;124m'\u001b[39m\u001b[38;5;124mtimestamp\u001b[39m\u001b[38;5;124m'\u001b[39m])\n",
      "File \u001b[1;32m~\\anaconda3\\Lib\\site-packages\\pandas\\core\\frame.py:4102\u001b[0m, in \u001b[0;36mDataFrame.__getitem__\u001b[1;34m(self, key)\u001b[0m\n\u001b[0;32m   4100\u001b[0m \u001b[38;5;28;01mif\u001b[39;00m \u001b[38;5;28mself\u001b[39m\u001b[38;5;241m.\u001b[39mcolumns\u001b[38;5;241m.\u001b[39mnlevels \u001b[38;5;241m>\u001b[39m \u001b[38;5;241m1\u001b[39m:\n\u001b[0;32m   4101\u001b[0m     \u001b[38;5;28;01mreturn\u001b[39;00m \u001b[38;5;28mself\u001b[39m\u001b[38;5;241m.\u001b[39m_getitem_multilevel(key)\n\u001b[1;32m-> 4102\u001b[0m indexer \u001b[38;5;241m=\u001b[39m \u001b[38;5;28mself\u001b[39m\u001b[38;5;241m.\u001b[39mcolumns\u001b[38;5;241m.\u001b[39mget_loc(key)\n\u001b[0;32m   4103\u001b[0m \u001b[38;5;28;01mif\u001b[39;00m is_integer(indexer):\n\u001b[0;32m   4104\u001b[0m     indexer \u001b[38;5;241m=\u001b[39m [indexer]\n",
      "File \u001b[1;32m~\\anaconda3\\Lib\\site-packages\\pandas\\core\\indexes\\base.py:3812\u001b[0m, in \u001b[0;36mIndex.get_loc\u001b[1;34m(self, key)\u001b[0m\n\u001b[0;32m   3807\u001b[0m     \u001b[38;5;28;01mif\u001b[39;00m \u001b[38;5;28misinstance\u001b[39m(casted_key, \u001b[38;5;28mslice\u001b[39m) \u001b[38;5;129;01mor\u001b[39;00m (\n\u001b[0;32m   3808\u001b[0m         \u001b[38;5;28misinstance\u001b[39m(casted_key, abc\u001b[38;5;241m.\u001b[39mIterable)\n\u001b[0;32m   3809\u001b[0m         \u001b[38;5;129;01mand\u001b[39;00m \u001b[38;5;28many\u001b[39m(\u001b[38;5;28misinstance\u001b[39m(x, \u001b[38;5;28mslice\u001b[39m) \u001b[38;5;28;01mfor\u001b[39;00m x \u001b[38;5;129;01min\u001b[39;00m casted_key)\n\u001b[0;32m   3810\u001b[0m     ):\n\u001b[0;32m   3811\u001b[0m         \u001b[38;5;28;01mraise\u001b[39;00m InvalidIndexError(key)\n\u001b[1;32m-> 3812\u001b[0m     \u001b[38;5;28;01mraise\u001b[39;00m \u001b[38;5;167;01mKeyError\u001b[39;00m(key) \u001b[38;5;28;01mfrom\u001b[39;00m \u001b[38;5;21;01merr\u001b[39;00m\n\u001b[0;32m   3813\u001b[0m \u001b[38;5;28;01mexcept\u001b[39;00m \u001b[38;5;167;01mTypeError\u001b[39;00m:\n\u001b[0;32m   3814\u001b[0m     \u001b[38;5;66;03m# If we have a listlike key, _check_indexing_error will raise\u001b[39;00m\n\u001b[0;32m   3815\u001b[0m     \u001b[38;5;66;03m#  InvalidIndexError. Otherwise we fall through and re-raise\u001b[39;00m\n\u001b[0;32m   3816\u001b[0m     \u001b[38;5;66;03m#  the TypeError.\u001b[39;00m\n\u001b[0;32m   3817\u001b[0m     \u001b[38;5;28mself\u001b[39m\u001b[38;5;241m.\u001b[39m_check_indexing_error(key)\n",
      "\u001b[1;31mKeyError\u001b[0m: 'timestamp'"
     ]
    }
   ],
   "source": [
    "#Data cleaning\n",
    "#Drop duplicates\n",
    "merged_df = merged_df.drop_duplicates()\n",
    "\n",
    "#Convert timestamp to datetime format (Optional, useful for time-based analysis)\n",
    "merged_df['timestamp'] = pd.to_datetime(merged_df['timestamp'], unit='s')\n",
    "\n",
    "#Drop timestamp column if not needed\n",
    "merged_df = merged_df.drop(columns=['timestamp'])\n",
    "\n",
    "print(\"Cleaned dataset preview:\")\n",
    "print(merged_df.head(10))"
   ]
  },
  {
   "cell_type": "code",
   "execution_count": 26,
   "id": "bea3eb5a-d604-459a-9813-d1aacc55ffc6",
   "metadata": {},
   "outputs": [
    {
     "name": "stdout",
     "output_type": "stream",
     "text": [
      "Cleaned dataset preview:\n",
      "    userId  movieId  rating  \\\n",
      "0        1       17     4.0   \n",
      "1        1       25     1.0   \n",
      "2        1       29     2.0   \n",
      "3        1       30     5.0   \n",
      "4        1       32     5.0   \n",
      "5        1       34     2.0   \n",
      "6        1       36     1.0   \n",
      "7        1       80     5.0   \n",
      "8        1      110     3.0   \n",
      "9        1      111     5.0   \n",
      "10       1      161     1.0   \n",
      "11       1      166     5.0   \n",
      "12       1      176     4.0   \n",
      "13       1      223     3.0   \n",
      "14       1      232     5.0   \n",
      "15       1      260     5.0   \n",
      "16       1      302     4.0   \n",
      "17       1      306     5.0   \n",
      "18       1      307     5.0   \n",
      "19       1      322     4.0   \n",
      "\n",
      "                                                title  \\\n",
      "0                        Sense and Sensibility (1995)   \n",
      "1                            Leaving Las Vegas (1995)   \n",
      "2   City of Lost Children, The (Cité des enfants p...   \n",
      "3   Shanghai Triad (Yao a yao yao dao waipo qiao) ...   \n",
      "4           Twelve Monkeys (a.k.a. 12 Monkeys) (1995)   \n",
      "5                                         Babe (1995)   \n",
      "6                             Dead Man Walking (1995)   \n",
      "7         White Balloon, The (Badkonake sefid) (1995)   \n",
      "8                                   Braveheart (1995)   \n",
      "9                                  Taxi Driver (1976)   \n",
      "10                                Crimson Tide (1995)   \n",
      "11                        Doom Generation, The (1995)   \n",
      "12                          Living in Oblivion (1995)   \n",
      "13                                      Clerks (1994)   \n",
      "14        Eat Drink Man Woman (Yin shi nan nu) (1994)   \n",
      "15          Star Wars: Episode IV - A New Hope (1977)   \n",
      "16             Queen Margot (Reine Margot, La) (1994)   \n",
      "17   Three Colors: Red (Trois couleurs: Rouge) (1994)   \n",
      "18   Three Colors: Blue (Trois couleurs: Bleu) (1993)   \n",
      "19                        Swimming with Sharks (1995)   \n",
      "\n",
      "                                    genres  \n",
      "0                            Drama|Romance  \n",
      "1                            Drama|Romance  \n",
      "2   Adventure|Drama|Fantasy|Mystery|Sci-Fi  \n",
      "3                              Crime|Drama  \n",
      "4                  Mystery|Sci-Fi|Thriller  \n",
      "5                           Children|Drama  \n",
      "6                              Crime|Drama  \n",
      "7                           Children|Drama  \n",
      "8                         Action|Drama|War  \n",
      "9                     Crime|Drama|Thriller  \n",
      "10                      Drama|Thriller|War  \n",
      "11                      Comedy|Crime|Drama  \n",
      "12                                  Comedy  \n",
      "13                                  Comedy  \n",
      "14                    Comedy|Drama|Romance  \n",
      "15                 Action|Adventure|Sci-Fi  \n",
      "16                           Drama|Romance  \n",
      "17                                   Drama  \n",
      "18                                   Drama  \n",
      "19                            Comedy|Drama  \n"
     ]
    }
   ],
   "source": [
    "print(\"Cleaned dataset preview:\")\n",
    "print(merged_df.head(20))"
   ]
  },
  {
   "cell_type": "code",
   "execution_count": null,
   "id": "f5a5c5d0-c8ae-44f9-a185-e8fe87797650",
   "metadata": {},
   "outputs": [],
   "source": [
    "#Content Based Filtering Method\n",
    "\n"
   ]
  }
 ],
 "metadata": {
  "kernelspec": {
   "display_name": "Python 3 (ipykernel)",
   "language": "python",
   "name": "python3"
  },
  "language_info": {
   "codemirror_mode": {
    "name": "ipython",
    "version": 3
   },
   "file_extension": ".py",
   "mimetype": "text/x-python",
   "name": "python",
   "nbconvert_exporter": "python",
   "pygments_lexer": "ipython3",
   "version": "3.12.7"
  }
 },
 "nbformat": 4,
 "nbformat_minor": 5
}

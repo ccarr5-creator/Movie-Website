{
 "cells": [
  {
   "cell_type": "code",
   "execution_count": 3,
   "id": "815a38f5-d4ba-4708-ac7b-e4c96ee32e96",
   "metadata": {},
   "outputs": [
    {
     "name": "stdout",
     "output_type": "stream",
     "text": [
      "First 20 rows of ratings.csv:\n",
      "    userId  movieId  rating  timestamp\n",
      "0        1       17     4.0  944249077\n",
      "1        1       25     1.0  944250228\n",
      "2        1       29     2.0  943230976\n",
      "3        1       30     5.0  944249077\n",
      "4        1       32     5.0  943228858\n",
      "5        1       34     2.0  943228491\n",
      "6        1       36     1.0  944249008\n",
      "7        1       80     5.0  944248943\n",
      "8        1      110     3.0  943231119\n",
      "9        1      111     5.0  944249008\n",
      "10       1      161     1.0  943231162\n",
      "11       1      166     5.0  943228442\n",
      "12       1      176     4.0  944079496\n",
      "13       1      223     3.0  944082810\n",
      "14       1      232     5.0  943228442\n",
      "15       1      260     5.0  943228696\n",
      "16       1      302     4.0  944253272\n",
      "17       1      306     5.0  944248888\n",
      "18       1      307     5.0  944253207\n",
      "19       1      322     4.0  944053801\n",
      "\n",
      "First 20 rows of movies.csv:\n",
      "    movieId                                  title  \\\n",
      "0         1                       Toy Story (1995)   \n",
      "1         2                         Jumanji (1995)   \n",
      "2         3                Grumpier Old Men (1995)   \n",
      "3         4               Waiting to Exhale (1995)   \n",
      "4         5     Father of the Bride Part II (1995)   \n",
      "5         6                            Heat (1995)   \n",
      "6         7                         Sabrina (1995)   \n",
      "7         8                    Tom and Huck (1995)   \n",
      "8         9                    Sudden Death (1995)   \n",
      "9        10                       GoldenEye (1995)   \n",
      "10       11         American President, The (1995)   \n",
      "11       12     Dracula: Dead and Loving It (1995)   \n",
      "12       13                           Balto (1995)   \n",
      "13       14                           Nixon (1995)   \n",
      "14       15                Cutthroat Island (1995)   \n",
      "15       16                          Casino (1995)   \n",
      "16       17           Sense and Sensibility (1995)   \n",
      "17       18                      Four Rooms (1995)   \n",
      "18       19  Ace Ventura: When Nature Calls (1995)   \n",
      "19       20                     Money Train (1995)   \n",
      "\n",
      "                                         genres  \n",
      "0   Adventure|Animation|Children|Comedy|Fantasy  \n",
      "1                    Adventure|Children|Fantasy  \n",
      "2                                Comedy|Romance  \n",
      "3                          Comedy|Drama|Romance  \n",
      "4                                        Comedy  \n",
      "5                         Action|Crime|Thriller  \n",
      "6                                Comedy|Romance  \n",
      "7                            Adventure|Children  \n",
      "8                                        Action  \n",
      "9                     Action|Adventure|Thriller  \n",
      "10                         Comedy|Drama|Romance  \n",
      "11                                Comedy|Horror  \n",
      "12                 Adventure|Animation|Children  \n",
      "13                                        Drama  \n",
      "14                     Action|Adventure|Romance  \n",
      "15                                  Crime|Drama  \n",
      "16                                Drama|Romance  \n",
      "17                                       Comedy  \n",
      "18                                       Comedy  \n",
      "19           Action|Comedy|Crime|Drama|Thriller  \n"
     ]
    }
   ],
   "source": [
    "import pandas as pd\n",
    "\n",
    "\n",
    "ratings = pd.read_csv(r'C:\\Users\\mystm\\OneDrive - Maryville University\\Desktop\\Movie Review Database\\ml-32m1\\ml-32m\\ratings.csv')\n",
    "print(\"First 20 rows of ratings.csv:\")\n",
    "print(ratings.head(20))\n",
    "\n",
    "movies = pd.read_csv(r'C:\\Users\\mystm\\OneDrive - Maryville University\\Desktop\\Movie Review Database\\ml-32m1\\ml-32m\\movies.csv')\n",
    "print(\"\\nFirst 20 rows of movies.csv:\")\n",
    "print(movies.head(20))\n"
   ]
  },
  {
   "cell_type": "code",
   "execution_count": 5,
   "id": "49a55d9a-39e7-4425-a319-6f5bd1a7bbf0",
   "metadata": {},
   "outputs": [
    {
     "name": "stdout",
     "output_type": "stream",
     "text": [
      "   userId  movieId  rating  timestamp  \\\n",
      "0       1       17     4.0  944249077   \n",
      "1       1       25     1.0  944250228   \n",
      "2       1       29     2.0  943230976   \n",
      "3       1       30     5.0  944249077   \n",
      "4       1       32     5.0  943228858   \n",
      "5       1       34     2.0  943228491   \n",
      "6       1       36     1.0  944249008   \n",
      "7       1       80     5.0  944248943   \n",
      "8       1      110     3.0  943231119   \n",
      "9       1      111     5.0  944249008   \n",
      "\n",
      "                                               title  \\\n",
      "0                       Sense and Sensibility (1995)   \n",
      "1                           Leaving Las Vegas (1995)   \n",
      "2  City of Lost Children, The (Cité des enfants p...   \n",
      "3  Shanghai Triad (Yao a yao yao dao waipo qiao) ...   \n",
      "4          Twelve Monkeys (a.k.a. 12 Monkeys) (1995)   \n",
      "5                                        Babe (1995)   \n",
      "6                            Dead Man Walking (1995)   \n",
      "7        White Balloon, The (Badkonake sefid) (1995)   \n",
      "8                                  Braveheart (1995)   \n",
      "9                                 Taxi Driver (1976)   \n",
      "\n",
      "                                   genres  \n",
      "0                           Drama|Romance  \n",
      "1                           Drama|Romance  \n",
      "2  Adventure|Drama|Fantasy|Mystery|Sci-Fi  \n",
      "3                             Crime|Drama  \n",
      "4                 Mystery|Sci-Fi|Thriller  \n",
      "5                          Children|Drama  \n",
      "6                             Crime|Drama  \n",
      "7                          Children|Drama  \n",
      "8                        Action|Drama|War  \n",
      "9                    Crime|Drama|Thriller  \n"
     ]
    }
   ],
   "source": [
    "#merge the data\n",
    "\n",
    "# Merge the datasets on movieId\n",
    "merged_df = pd.merge(ratings, movies, on='movieId')\n",
    "\n",
    "# Display first 10 rows\n",
    "print(merged_df.head(10))"
   ]
  },
  {
   "cell_type": "code",
   "execution_count": 7,
   "id": "af8cce93-bc7a-4dce-9003-8e309e61dfb9",
   "metadata": {},
   "outputs": [
    {
     "name": "stdout",
     "output_type": "stream",
     "text": [
      "Number of unique users: 200948\n",
      "Number of unique movies: 84432\n"
     ]
    }
   ],
   "source": [
    "#Check for unique numbers\n",
    "print(f\"Number of unique users: {merged_df['userId'].nunique()}\")\n",
    "print(f\"Number of unique movies: {merged_df['movieId'].nunique()}\")"
   ]
  },
  {
   "cell_type": "code",
   "execution_count": 9,
   "id": "6bc79135-4b85-48f1-b4dc-b2f57ce37f3e",
   "metadata": {},
   "outputs": [
    {
     "name": "stdout",
     "output_type": "stream",
     "text": [
      "Missing values in dataset:\n",
      "userId       0\n",
      "movieId      0\n",
      "rating       0\n",
      "timestamp    0\n",
      "title        0\n",
      "genres       0\n",
      "dtype: int64\n"
     ]
    }
   ],
   "source": [
    "#Missing values\n",
    "\n",
    "print(\"Missing values in dataset:\")\n",
    "print(merged_df.isnull().sum())"
   ]
  },
  {
   "cell_type": "code",
   "execution_count": 13,
   "id": "2eb6eee1-2802-4fc6-b2b7-d9e1b2d3f83d",
   "metadata": {},
   "outputs": [
    {
     "name": "stdout",
     "output_type": "stream",
     "text": [
      "Top 10 most rated movies:\n",
      "title\n",
      "Shawshank Redemption, The (1994)                             102929\n",
      "Forrest Gump (1994)                                          100296\n",
      "Pulp Fiction (1994)                                           98409\n",
      "Matrix, The (1999)                                            93808\n",
      "Silence of the Lambs, The (1991)                              90330\n",
      "Star Wars: Episode IV - A New Hope (1977)                     85010\n",
      "Fight Club (1999)                                             77332\n",
      "Jurassic Park (1993)                                          75233\n",
      "Schindler's List (1993)                                       73849\n",
      "Lord of the Rings: The Fellowship of the Ring, The (2001)     73122\n",
      "Name: rating, dtype: int64\n"
     ]
    }
   ],
   "source": [
    "#Most rated movie\n",
    "most_rated = merged_df.groupby('title')['rating'].count().sort_values(ascending=False)\n",
    "print(\"Top 10 most rated movies:\")\n",
    "print(most_rated.head(10))"
   ]
  },
  {
   "cell_type": "code",
   "execution_count": 15,
   "id": "92c60073-a696-4ee9-99d0-8b9bbb7eb70f",
   "metadata": {},
   "outputs": [
    {
     "name": "stdout",
     "output_type": "stream",
     "text": [
      "Top 10 highest-rated movies (min 50 ratings):\n",
      "title\n",
      "Planet Earth II (2016)              4.446830\n",
      "Planet Earth (2006)                 4.444369\n",
      "Band of Brothers (2001)             4.426539\n",
      "Shawshank Redemption, The (1994)    4.404614\n",
      "Cosmos                              4.330081\n",
      "Godfather, The (1972)               4.317030\n",
      "Parasite (2019)                     4.312254\n",
      "Blue Planet II (2017)               4.300086\n",
      "Twin Peaks (1989)                   4.298684\n",
      "Twelve Angry Men (1954)             4.286192\n",
      "Name: rating, dtype: float64\n"
     ]
    }
   ],
   "source": [
    "#Highest rated movie\n",
    "average_ratings = merged_df.groupby('title')['rating'].mean()\n",
    "rating_counts = merged_df.groupby('title')['rating'].count()\n",
    "\n",
    "# Filter for movies with at least 50 ratings\n",
    "popular_movies = average_ratings[rating_counts >= 50].sort_values(ascending=False)\n",
    "\n",
    "print(\"Top 10 highest-rated movies (min 50 ratings):\")\n",
    "print(popular_movies.head(10))"
   ]
  },
  {
   "cell_type": "code",
   "execution_count": 17,
   "id": "ed0813a7-512a-41a0-a441-3813a1469aeb",
   "metadata": {},
   "outputs": [
    {
     "name": "stdout",
     "output_type": "stream",
     "text": [
      "Cleaned dataset preview:\n",
      "   userId  movieId  rating                                              title  \\\n",
      "0       1       17     4.0                       Sense and Sensibility (1995)   \n",
      "1       1       25     1.0                           Leaving Las Vegas (1995)   \n",
      "2       1       29     2.0  City of Lost Children, The (Cité des enfants p...   \n",
      "3       1       30     5.0  Shanghai Triad (Yao a yao yao dao waipo qiao) ...   \n",
      "4       1       32     5.0          Twelve Monkeys (a.k.a. 12 Monkeys) (1995)   \n",
      "5       1       34     2.0                                        Babe (1995)   \n",
      "6       1       36     1.0                            Dead Man Walking (1995)   \n",
      "7       1       80     5.0        White Balloon, The (Badkonake sefid) (1995)   \n",
      "8       1      110     3.0                                  Braveheart (1995)   \n",
      "9       1      111     5.0                                 Taxi Driver (1976)   \n",
      "\n",
      "                                   genres  \n",
      "0                           Drama|Romance  \n",
      "1                           Drama|Romance  \n",
      "2  Adventure|Drama|Fantasy|Mystery|Sci-Fi  \n",
      "3                             Crime|Drama  \n",
      "4                 Mystery|Sci-Fi|Thriller  \n",
      "5                          Children|Drama  \n",
      "6                             Crime|Drama  \n",
      "7                          Children|Drama  \n",
      "8                        Action|Drama|War  \n",
      "9                    Crime|Drama|Thriller  \n"
     ]
    }
   ],
   "source": [
    "#Data cleaning\n",
    "#Drop duplicates\n",
    "merged_df = merged_df.drop_duplicates()\n",
    "\n",
    "#Convert timestamp to datetime format (Optional, useful for time-based analysis)\n",
    "merged_df['timestamp'] = pd.to_datetime(merged_df['timestamp'], unit='s')\n",
    "\n",
    "#Drop timestamp column if not needed\n",
    "merged_df = merged_df.drop(columns=['timestamp'])\n",
    "\n",
    "print(\"Cleaned dataset preview:\")\n",
    "print(merged_df.head(10))"
   ]
  },
  {
   "cell_type": "code",
   "execution_count": 19,
   "id": "bea3eb5a-d604-459a-9813-d1aacc55ffc6",
   "metadata": {},
   "outputs": [
    {
     "name": "stdout",
     "output_type": "stream",
     "text": [
      "Cleaned dataset preview:\n",
      "    userId  movieId  rating  \\\n",
      "0        1       17     4.0   \n",
      "1        1       25     1.0   \n",
      "2        1       29     2.0   \n",
      "3        1       30     5.0   \n",
      "4        1       32     5.0   \n",
      "5        1       34     2.0   \n",
      "6        1       36     1.0   \n",
      "7        1       80     5.0   \n",
      "8        1      110     3.0   \n",
      "9        1      111     5.0   \n",
      "10       1      161     1.0   \n",
      "11       1      166     5.0   \n",
      "12       1      176     4.0   \n",
      "13       1      223     3.0   \n",
      "14       1      232     5.0   \n",
      "15       1      260     5.0   \n",
      "16       1      302     4.0   \n",
      "17       1      306     5.0   \n",
      "18       1      307     5.0   \n",
      "19       1      322     4.0   \n",
      "\n",
      "                                                title  \\\n",
      "0                        Sense and Sensibility (1995)   \n",
      "1                            Leaving Las Vegas (1995)   \n",
      "2   City of Lost Children, The (Cité des enfants p...   \n",
      "3   Shanghai Triad (Yao a yao yao dao waipo qiao) ...   \n",
      "4           Twelve Monkeys (a.k.a. 12 Monkeys) (1995)   \n",
      "5                                         Babe (1995)   \n",
      "6                             Dead Man Walking (1995)   \n",
      "7         White Balloon, The (Badkonake sefid) (1995)   \n",
      "8                                   Braveheart (1995)   \n",
      "9                                  Taxi Driver (1976)   \n",
      "10                                Crimson Tide (1995)   \n",
      "11                        Doom Generation, The (1995)   \n",
      "12                          Living in Oblivion (1995)   \n",
      "13                                      Clerks (1994)   \n",
      "14        Eat Drink Man Woman (Yin shi nan nu) (1994)   \n",
      "15          Star Wars: Episode IV - A New Hope (1977)   \n",
      "16             Queen Margot (Reine Margot, La) (1994)   \n",
      "17   Three Colors: Red (Trois couleurs: Rouge) (1994)   \n",
      "18   Three Colors: Blue (Trois couleurs: Bleu) (1993)   \n",
      "19                        Swimming with Sharks (1995)   \n",
      "\n",
      "                                    genres  \n",
      "0                            Drama|Romance  \n",
      "1                            Drama|Romance  \n",
      "2   Adventure|Drama|Fantasy|Mystery|Sci-Fi  \n",
      "3                              Crime|Drama  \n",
      "4                  Mystery|Sci-Fi|Thriller  \n",
      "5                           Children|Drama  \n",
      "6                              Crime|Drama  \n",
      "7                           Children|Drama  \n",
      "8                         Action|Drama|War  \n",
      "9                     Crime|Drama|Thriller  \n",
      "10                      Drama|Thriller|War  \n",
      "11                      Comedy|Crime|Drama  \n",
      "12                                  Comedy  \n",
      "13                                  Comedy  \n",
      "14                    Comedy|Drama|Romance  \n",
      "15                 Action|Adventure|Sci-Fi  \n",
      "16                           Drama|Romance  \n",
      "17                                   Drama  \n",
      "18                                   Drama  \n",
      "19                            Comedy|Drama  \n"
     ]
    }
   ],
   "source": [
    "print(\"Cleaned dataset preview:\")\n",
    "print(merged_df.head(20))"
   ]
  },
  {
   "cell_type": "code",
   "execution_count": 21,
   "id": "f5a5c5d0-c8ae-44f9-a185-e8fe87797650",
   "metadata": {},
   "outputs": [
    {
     "name": "stdout",
     "output_type": "stream",
     "text": [
      "                                    action  adventure  animation  children  \\\n",
      "title                                                                        \n",
      "Toy Story (1995)                       0.0   0.458969   0.478003  0.480576   \n",
      "Jumanji (1995)                         0.0   0.551895   0.000000  0.577877   \n",
      "Grumpier Old Men (1995)                0.0   0.000000   0.000000  0.000000   \n",
      "Waiting to Exhale (1995)               0.0   0.000000   0.000000  0.000000   \n",
      "Father of the Bride Part II (1995)     0.0   0.000000   0.000000  0.000000   \n",
      "\n",
      "                                      comedy  crime  documentary     drama  \\\n",
      "title                                                                        \n",
      "Toy Story (1995)                    0.282693    0.0          0.0  0.000000   \n",
      "Jumanji (1995)                      0.000000    0.0          0.0  0.000000   \n",
      "Grumpier Old Men (1995)             0.596953    0.0          0.0  0.000000   \n",
      "Waiting to Exhale (1995)            0.534581    0.0          0.0  0.445028   \n",
      "Father of the Bride Part II (1995)  1.000000    0.0          0.0  0.000000   \n",
      "\n",
      "                                     fantasy   fi  ...  imax  listed  musical  \\\n",
      "title                                              ...                          \n",
      "Toy Story (1995)                    0.499992  0.0  ...   0.0     0.0      0.0   \n",
      "Jumanji (1995)                      0.601223  0.0  ...   0.0     0.0      0.0   \n",
      "Grumpier Old Men (1995)             0.000000  0.0  ...   0.0     0.0      0.0   \n",
      "Waiting to Exhale (1995)            0.000000  0.0  ...   0.0     0.0      0.0   \n",
      "Father of the Bride Part II (1995)  0.000000  0.0  ...   0.0     0.0      0.0   \n",
      "\n",
      "                                    mystery  noir   romance  sci  thriller  \\\n",
      "title                                                                        \n",
      "Toy Story (1995)                        0.0   0.0  0.000000  0.0       0.0   \n",
      "Jumanji (1995)                          0.0   0.0  0.000000  0.0       0.0   \n",
      "Grumpier Old Men (1995)                 0.0   0.0  0.802276  0.0       0.0   \n",
      "Waiting to Exhale (1995)                0.0   0.0  0.718452  0.0       0.0   \n",
      "Father of the Bride Part II (1995)      0.0   0.0  0.000000  0.0       0.0   \n",
      "\n",
      "                                    war  western  \n",
      "title                                             \n",
      "Toy Story (1995)                    0.0      0.0  \n",
      "Jumanji (1995)                      0.0      0.0  \n",
      "Grumpier Old Men (1995)             0.0      0.0  \n",
      "Waiting to Exhale (1995)            0.0      0.0  \n",
      "Father of the Bride Part II (1995)  0.0      0.0  \n",
      "\n",
      "[5 rows x 23 columns]\n"
     ]
    }
   ],
   "source": [
    "#Content Based Filtering Method\n",
    "#Converting the genres into machine-readable format\n",
    "#Using TF-IDF Vectorization\n",
    "\n",
    "from sklearn.feature_extraction.text import TfidfVectorizer\n",
    "import pandas as pd\n",
    "\n",
    "#Load the movies dataset\n",
    "movies = pd.read_csv(r'C:\\Users\\mystm\\OneDrive - Maryville University\\Desktop\\Movie Review Database\\ml-32m1\\ml-32m\\movies.csv')\n",
    "\n",
    "#Fill NaN values (if any)\n",
    "movies['genres'] = movies['genres'].fillna('')\n",
    "\n",
    "#Initialize the TF-IDF Vectorizer\n",
    "tfidf = TfidfVectorizer(stop_words='english')\n",
    "\n",
    "#Fit and transform the genres column\n",
    "genre_matrix = tfidf.fit_transform(movies['genres'])\n",
    "\n",
    "#Convert to a DataFrame for easy viewing\n",
    "genre_df = pd.DataFrame(genre_matrix.toarray(), index=movies['title'], columns=tfidf.get_feature_names_out())\n",
    "\n",
    "#Display first few rows\n",
    "print(genre_df.head())\n"
   ]
  },
  {
   "cell_type": "code",
   "execution_count": 35,
   "id": "6aa9b5e0-582e-4400-b321-5e40d653c989",
   "metadata": {},
   "outputs": [
    {
     "name": "stdout",
     "output_type": "stream",
     "text": [
      "          Action  Comedy  Drama  Action  Thriller  Drama  Comedy  Action\n",
      "Action       1.0     0.0    0.0     1.0       0.0    0.0     0.0     1.0\n",
      "Comedy       0.0     1.0    0.0     0.0       0.0    0.0     1.0     0.0\n",
      "Drama        0.0     0.0    1.0     0.0       0.0    1.0     0.0     0.0\n",
      "Action       1.0     0.0    0.0     1.0       0.0    0.0     0.0     1.0\n",
      "Thriller     0.0     0.0    0.0     0.0       1.0    0.0     0.0     0.0\n",
      "Drama        0.0     0.0    1.0     0.0       0.0    1.0     0.0     0.0\n",
      "Comedy       0.0     1.0    0.0     0.0       0.0    0.0     1.0     0.0\n",
      "Action       1.0     0.0    0.0     1.0       0.0    0.0     0.0     1.0\n"
     ]
    }
   ],
   "source": [
    "#Computing Movie Similarity\n",
    "#Consine Similarity: measures how close two movies are based on their genre vectors\n",
    "\n",
    "from sklearn.metrics.pairwise import cosine_similarity\n",
    "import pandas as pd\n",
    "\n",
    "# Compute the cosine similarity matrix\n",
    "cosine_sim = cosine_similarity(genre_matrix, genre_matrix)\n",
    "\n",
    "# Convert to a DataFrame for easier indexing\n",
    "movie_sim_df = pd.DataFrame(cosine_sim, index=genres, columns=genres)\n",
    "\n",
    "# Display the similarity matrix\n",
    "print(movie_sim_df)\n"
   ]
  },
  {
   "cell_type": "code",
   "execution_count": 11,
   "id": "8a61e757-bb86-42aa-b09d-b3e54a6bf7c5",
   "metadata": {},
   "outputs": [
    {
     "name": "stdout",
     "output_type": "stream",
     "text": [
      "title\n",
      "UglyDolls (2019)                                  1.0\n",
      "Emperor's New Groove, The (2000)                  1.0\n",
      "Onward (2020)                                     1.0\n",
      "Trolls World Tour (2020)                          1.0\n",
      "Adventures of Rocky and Bullwinkle, The (2000)    1.0\n",
      "Name: Toy Story (1995), dtype: float64\n"
     ]
    }
   ],
   "source": [
    "# Function recommending movies based on genre similarity.\n",
    "def recommend_movies_by_genre(movie_title, movie_sim_df, top_n=5):\n",
    "    #Get the similarity scores for the given movie\n",
    "    sim_scores = movie_sim_df[movie_title]\n",
    "    \n",
    "    #Sort the movies based on similarity scores in descending order\n",
    "    sim_scores = sim_scores.sort_values(ascending=False)\n",
    "    \n",
    "    #Exclude the input movie from the recommendations\n",
    "    sim_scores = sim_scores.drop(movie_title)\n",
    "    \n",
    "    #Get the top_n most similar movies\n",
    "    top_recommendations = sim_scores.head(top_n)\n",
    "    \n",
    "    return top_recommendations\n",
    "\n",
    "#Example usage: Recommend 5 movies similar to \"Toy Story (1995)\"\n",
    "recommended_movies = recommend_movies_by_genre('Toy Story (1995)', movie_sim_df, top_n=5)\n",
    "print(recommended_movies)\n"
   ]
  },
  {
   "cell_type": "code",
   "execution_count": 12,
   "id": "07bf27e3-e29e-4f44-a5c6-6bfe6282e93c",
   "metadata": {},
   "outputs": [
    {
     "name": "stdout",
     "output_type": "stream",
     "text": [
      "[0.         0.45896914 0.47800272 0.48057644 0.282693   0.\n",
      " 0.         0.         0.49999168 0.         0.         0.\n",
      " 0.         0.         0.         0.         0.         0.\n",
      " 0.         0.         0.         0.         0.        ]\n",
      "[0.         0.45896914 0.47800272 0.48057644 0.282693   0.\n",
      " 0.         0.         0.49999168 0.         0.         0.\n",
      " 0.         0.         0.         0.         0.         0.\n",
      " 0.         0.         0.         0.         0.        ]\n",
      "[0.         0.45896914 0.47800272 0.48057644 0.282693   0.\n",
      " 0.         0.         0.49999168 0.         0.         0.\n",
      " 0.         0.         0.         0.         0.         0.\n",
      " 0.         0.         0.         0.         0.        ]\n"
     ]
    }
   ],
   "source": [
    "#Confirming that the movies do have similar genres\n",
    "#Get the index of the movies you want to inspect\n",
    "toy_story_idx = movies[movies['title'] == 'Toy Story (1995)'].index[0]\n",
    "ugly_dolls_idx = movies[movies['title'] == 'UglyDolls (2019)'].index[0]\n",
    "emperor_new_groove_idx = movies[movies['title'] == 'Emperor\\'s New Groove, The (2000)'].index[0]\n",
    "\n",
    "#Access the genre vector for each movie\n",
    "toy_story_vector = genre_matrix[toy_story_idx].toarray().flatten()\n",
    "ugly_dolls_vector = genre_matrix[ugly_dolls_idx].toarray().flatten()\n",
    "emperor_new_groove_vector = genre_matrix[emperor_new_groove_idx].toarray().flatten()\n",
    "\n",
    "#Print the vectors to compare\n",
    "print(toy_story_vector)\n",
    "print(ugly_dolls_vector)\n",
    "print(emperor_new_groove_vector)\n",
    "\n"
   ]
  },
  {
   "cell_type": "code",
   "execution_count": 13,
   "id": "5ef3fd20-9add-44ef-b6b5-f46e89ac9200",
   "metadata": {},
   "outputs": [],
   "source": [
    "#Making it based off only genre input\n",
    "\n",
    "def recommend_by_genre(genre, movies_df, genre_matrix, top_n=10):\n",
    "    if genre not in movies_df.columns:\n",
    "        print(f\"Genre '{genre}' not found.\")\n",
    "        return []\n",
    "\n",
    "    #Filter movies that belong to the specified genre\n",
    "    genre_movies = movies_df[movies_df[genre] == 1]\n",
    "\n",
    "    #Sort randomly or based on popularity/rating if available\n",
    "    return genre_movies[['title', 'genres']].head(top_n)\n"
   ]
  },
  {
   "cell_type": "code",
   "execution_count": 15,
   "id": "0eb6ff35-8b22-49eb-aee4-03e2e27411a2",
   "metadata": {},
   "outputs": [],
   "source": [
    "from sklearn.preprocessing import MultiLabelBinarizer\n",
    "\n",
    "#First, split the genres into lists\n",
    "movies['genres_list'] = movies['genres'].str.split('|')\n",
    "\n",
    "#Then use MultiLabelBinarizer to create genre columns\n",
    "mlb = MultiLabelBinarizer()\n",
    "genre_matrix = mlb.fit_transform(movies['genres_list'])\n",
    "\n",
    "#Add genre columns back to your movies DataFrame\n",
    "movies_with_genres = movies.join(pd.DataFrame(genre_matrix, columns=mlb.classes_))\n",
    "\n"
   ]
  },
  {
   "cell_type": "code",
   "execution_count": 17,
   "id": "f5b963fb-4511-4135-9000-c62e9748ce57",
   "metadata": {},
   "outputs": [
    {
     "name": "stdout",
     "output_type": "stream",
     "text": [
      "                       title                                       genres\n",
      "0           Toy Story (1995)  Adventure|Animation|Children|Comedy|Fantasy\n",
      "12              Balto (1995)                 Adventure|Animation|Children\n",
      "47         Pocahontas (1995)     Animation|Children|Drama|Musical|Romance\n",
      "236    Goofy Movie, A (1995)            Animation|Children|Comedy|Romance\n",
      "241  Gumby: The Movie (1995)                           Animation|Children\n"
     ]
    }
   ],
   "source": [
    "recommendations = recommend_by_genre('Animation', movies_with_genres, genre_matrix, top_n=5)\n",
    "print(recommendations)\n"
   ]
  },
  {
   "cell_type": "code",
   "execution_count": 5,
   "id": "ebd31279-e3e2-4b83-8458-80380c887290",
   "metadata": {},
   "outputs": [
    {
     "name": "stdout",
     "output_type": "stream",
     "text": [
      "   movieId                               title  \\\n",
      "0        1                    Toy Story (1995)   \n",
      "1        2                      Jumanji (1995)   \n",
      "2        3             Grumpier Old Men (1995)   \n",
      "3        4            Waiting to Exhale (1995)   \n",
      "4        5  Father of the Bride Part II (1995)   \n",
      "\n",
      "                                        genres  (no genres listed)  Action  \\\n",
      "0  Adventure|Animation|Children|Comedy|Fantasy                   0       0   \n",
      "1                   Adventure|Children|Fantasy                   0       0   \n",
      "2                               Comedy|Romance                   0       0   \n",
      "3                         Comedy|Drama|Romance                   0       0   \n",
      "4                                       Comedy                   0       0   \n",
      "\n",
      "   Adventure  Animation  Children  Comedy  Crime  ...  Film-Noir  Horror  \\\n",
      "0          1          1         1       1      0  ...          0       0   \n",
      "1          1          0         1       0      0  ...          0       0   \n",
      "2          0          0         0       1      0  ...          0       0   \n",
      "3          0          0         0       1      0  ...          0       0   \n",
      "4          0          0         0       1      0  ...          0       0   \n",
      "\n",
      "   IMAX  Musical  Mystery  Romance  Sci-Fi  Thriller  War  Western  \n",
      "0     0        0        0        0       0         0    0        0  \n",
      "1     0        0        0        0       0         0    0        0  \n",
      "2     0        0        0        1       0         0    0        0  \n",
      "3     0        0        0        1       0         0    0        0  \n",
      "4     0        0        0        0       0         0    0        0  \n",
      "\n",
      "[5 rows x 23 columns]\n"
     ]
    }
   ],
   "source": [
    "#One-hot encode the genres\n",
    "genre_dummies = movies['genres'].str.get_dummies(sep='|')\n",
    "\n",
    "#Combine with the original movies DataFrame\n",
    "movies_with_genres = pd.concat([movies, genre_dummies], axis=1)\n",
    "\n",
    "print(movies_with_genres.head())\n"
   ]
  },
  {
   "cell_type": "code",
   "execution_count": 7,
   "id": "d4533b86-0925-4b12-b029-0ad8f5952a58",
   "metadata": {},
   "outputs": [
    {
     "name": "stdout",
     "output_type": "stream",
     "text": [
      "                       title                                       genres\n",
      "0           Toy Story (1995)  Adventure|Animation|Children|Comedy|Fantasy\n",
      "12              Balto (1995)                 Adventure|Animation|Children\n",
      "47         Pocahontas (1995)     Animation|Children|Drama|Musical|Romance\n",
      "236    Goofy Movie, A (1995)            Animation|Children|Comedy|Romance\n",
      "241  Gumby: The Movie (1995)                           Animation|Children\n"
     ]
    }
   ],
   "source": [
    "# Example: Recommend movies in the 'Animation' genre\n",
    "animation_movies = movies_with_genres[movies_with_genres['Animation'] == 1]\n",
    "print(animation_movies[['title', 'genres']].head())\n"
   ]
  },
  {
   "cell_type": "code",
   "execution_count": 9,
   "id": "ce94ecb5-d06f-4af1-ae62-c742230e497a",
   "metadata": {},
   "outputs": [
    {
     "name": "stdout",
     "output_type": "stream",
     "text": [
      "                                                   title  \\\n",
      "73186  Teenage Mutant Ninja Turtles Rise of the Turtl...   \n",
      "7896                             Tokyo Godfathers (2003)   \n",
      "23797                       The Nutcracker Prince (1990)   \n",
      "83409                       The Impatient Patient (1942)   \n",
      "51621                                      Summer (1930)   \n",
      "\n",
      "                                     genres  \n",
      "73186               Action|Animation|Comedy  \n",
      "7896              Adventure|Animation|Drama  \n",
      "23797  Adventure|Animation|Children|Fantasy  \n",
      "83409                             Animation  \n",
      "51621                             Animation  \n"
     ]
    }
   ],
   "source": [
    "def recommend_by_genre(genre, num_recommendations=5):\n",
    "    genre = genre.capitalize()\n",
    "    if genre in movies_with_genres.columns:\n",
    "        results = movies_with_genres[movies_with_genres[genre] == 1]\n",
    "        return results[['title', 'genres']].sample(n=num_recommendations, random_state=1)\n",
    "    else:\n",
    "        return f\"Genre '{genre}' not found.\"\n",
    "\n",
    "\n",
    "print(recommend_by_genre('Animation'))"
   ]
  },
  {
   "cell_type": "code",
   "execution_count": 11,
   "id": "3c6d6f12-3e7a-4849-ac87-66f44214afe9",
   "metadata": {},
   "outputs": [
    {
     "name": "stdin",
     "output_type": "stream",
     "text": [
      "Enter a genre (e.g., Animation, Comedy, Drama):  Comedy\n"
     ]
    },
    {
     "name": "stdout",
     "output_type": "stream",
     "text": [
      "\n",
      "Recommended Movies:\n",
      "                               title                               genres\n",
      "25776  He's a Cockeyed Wonder (1950)                       Comedy|Romance\n",
      "78435              Sharkproof (2012)                        Action|Comedy\n",
      "12959           Open Season 2 (2008)  Adventure|Animation|Children|Comedy\n",
      "17676         Scenesters, The (2009)                 Comedy|Crime|Mystery\n",
      "1345                 Grease 2 (1982)               Comedy|Musical|Romance\n"
     ]
    }
   ],
   "source": [
    "#Now let the user actually input\n",
    "def recommend_by_genre(genre, num_recommendations=5):\n",
    "    genre = genre.capitalize()\n",
    "    if genre in movies_with_genres.columns:\n",
    "        filtered_movies = movies_with_genres[movies_with_genres[genre] == 1]\n",
    "        return filtered_movies[['title', 'genres']].sample(n=min(num_recommendations, len(filtered_movies)), random_state=1)\n",
    "    else:\n",
    "        return f\"Genre '{genre}' not found. Please check spelling or try another genre.\"\n",
    "\n",
    "#Ask the user for input\n",
    "user_input = input(\"Enter a genre (e.g., Animation, Comedy, Drama): \")\n",
    "recommendations = recommend_by_genre(user_input)\n",
    "\n",
    "#Show the result\n",
    "print(\"\\nRecommended Movies:\")\n",
    "print(recommendations)\n"
   ]
  },
  {
   "cell_type": "code",
   "execution_count": 39,
   "id": "d047160d-bc3d-41dd-8380-55941932f71a",
   "metadata": {},
   "outputs": [],
   "source": [
    "#Now we are going to create User History Storage\n",
    "from sklearn.metrics.pairwise import cosine_similarity\n",
    "import numpy as np\n",
    "import pandas as pd\n",
    "def recommend_from_history(user_id, history, movies, genre_matrix, top_n=10):\n",
    "    if user_id not in history:\n",
    "        return []\n",
    "\n",
    "    watched_titles = history[user_id]\n",
    "    watched_indices = movies[movies['title'].isin(watched_titles)].index.tolist()\n",
    "\n",
    "    if not watched_indices:\n",
    "        return []\n",
    "\n",
    "    # Create an average genre vector of watched movies\n",
    "    watched_vectors = genre_matrix[watched_indices]\n",
    "    avg_vector = np.asarray(watched_vectors.mean(axis=0))\n",
    "\n",
    "\n",
    "    # Compute similarity between avg vector and all movies\n",
    "    sims = cosine_similarity(avg_vector, genre_matrix).flatten()\n",
    "\n",
    "    # Create similarity DataFrame\n",
    "    sim_df = pd.DataFrame({'title': movies['title'], 'similarity': sims})\n",
    "\n",
    "    # Exclude already watched\n",
    "    sim_df = sim_df[~sim_df['title'].isin(watched_titles)]\n",
    "\n",
    "    # Return top N\n",
    "    return sim_df.sort_values(by='similarity', ascending=False).head(top_n)"
   ]
  },
  {
   "cell_type": "code",
   "execution_count": 41,
   "id": "b4ebefbd-0b92-4455-9159-8c084815c121",
   "metadata": {},
   "outputs": [],
   "source": [
    "#Updating the User History when a movie is searched or clicked on\n",
    "\n",
    "def update_user_history(user_id, movie_title, history):\n",
    "    if user_id not in history:\n",
    "        history[user_id] = []\n",
    "    if movie_title not in history[user_id]:\n",
    "        history[user_id].append(movie_title)\n"
   ]
  },
  {
   "cell_type": "code",
   "execution_count": 43,
   "id": "ede55655-8117-43be-96e9-b2eaba618c66",
   "metadata": {
    "scrolled": true
   },
   "outputs": [
    {
     "name": "stdout",
     "output_type": "stream",
     "text": [
      "Recommendations for user_1:\n",
      "                                                   title  similarity\n",
      "72207               Elliot: The Littlest Reindeer (2018)     0.95357\n",
      "47143        Adventures of Mowgli: The Kidnapping (1968)     0.95357\n",
      "83783                          My Father's Dragon (2022)     0.95357\n",
      "63932     Doraemon: Nobita's Secret Gadget Museum (2013)     0.95357\n",
      "58375     Adventures of Mowgli: Return to Mankind (1971)     0.95357\n",
      "59935   Rainbow Magic: Return to Rainspell Island (2010)     0.95357\n",
      "58376     Adventures of Mowgli: Akela's Last Hunt (1969)     0.95357\n",
      "80560          Riverdance: The Animated Adventure (2021)     0.95357\n",
      "58377             Adventures of Mowgli: The Fight (1970)     0.95357\n",
      "41902  VeggieTales: Sheerluck Holmes and the Golden R...     0.95357\n"
     ]
    }
   ],
   "source": [
    "#Testing User History\n",
    "\n",
    "user_history = {\n",
    "    \"user_1\": [\"Toy Story (1995)\", \"Balto (1995)\"]\n",
    "}\n",
    "\n",
    "recommendations = recommend_from_history(\"user_1\", user_history, movies, genre_matrix)\n",
    "print(\"Recommendations for user_1:\")\n",
    "print(recommendations)\n"
   ]
  },
  {
   "cell_type": "code",
   "execution_count": 51,
   "id": "82db65d8-4b4c-4c23-b367-4eedabfc51e7",
   "metadata": {},
   "outputs": [],
   "source": [
    "movie_sim_df.to_pickle(r\"C:\\Users\\mystm\\OneDrive - Maryville University\\Desktop\\Movie Review Database\\movie_sim_df.pkl\")"
   ]
  },
  {
   "cell_type": "code",
   "execution_count": 49,
   "id": "1ead159b-5ac2-4df2-ac31-156bee710c16",
   "metadata": {},
   "outputs": [],
   "source": [
    "movie_sim_df = movie_sim_df[~movie_sim_df.index.duplicated(keep='first')]\n"
   ]
  }
 ],
 "metadata": {
  "kernelspec": {
   "display_name": "Python 3 (ipykernel)",
   "language": "python",
   "name": "python3"
  },
  "language_info": {
   "codemirror_mode": {
    "name": "ipython",
    "version": 3
   },
   "file_extension": ".py",
   "mimetype": "text/x-python",
   "name": "python",
   "nbconvert_exporter": "python",
   "pygments_lexer": "ipython3",
   "version": "3.12.7"
  }
 },
 "nbformat": 4,
 "nbformat_minor": 5
}
